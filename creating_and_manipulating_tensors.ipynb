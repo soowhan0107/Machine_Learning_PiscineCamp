{
  "nbformat": 4,
  "nbformat_minor": 0,
  "metadata": {
    "colab": {
      "name": "creating_and_manipulating_tensors.ipynb",
      "version": "0.3.2",
      "provenance": [],
      "collapsed_sections": [
        "JndnmDMp66FL",
        "7d1kfAx4QL17",
        "EYzU56M4MG_x",
        "Kt7aojXkR_qS"
      ],
      "include_colab_link": true
    }
  },
  "cells": [
    {
      "cell_type": "markdown",
      "metadata": {
        "id": "view-in-github",
        "colab_type": "text"
      },
      "source": [
        "[View in Colaboratory](https://colab.research.google.com/github/soowhan0107/Machine_Learning_PiscineCamp/blob/master/creating_and_manipulating_tensors.ipynb)"
      ]
    },
    {
      "metadata": {
        "id": "JndnmDMp66FL",
        "colab_type": "text"
      },
      "cell_type": "markdown",
      "source": [
        "#### Copyright 2017 Google LLC."
      ]
    },
    {
      "metadata": {
        "id": "hMqWDc_m6rUC",
        "colab_type": "code",
        "colab": {},
        "cellView": "both"
      },
      "cell_type": "code",
      "source": [
        "# Licensed under the Apache License, Version 2.0 (the \"License\");\n",
        "# you may not use this file except in compliance with the License.\n",
        "# You may obtain a copy of the License at\n",
        "#\n",
        "# https://www.apache.org/licenses/LICENSE-2.0\n",
        "#\n",
        "# Unless required by applicable law or agreed to in writing, software\n",
        "# distributed under the License is distributed on an \"AS IS\" BASIS,\n",
        "# WITHOUT WARRANTIES OR CONDITIONS OF ANY KIND, either express or implied.\n",
        "# See the License for the specific language governing permissions and\n",
        "# limitations under the License."
      ],
      "execution_count": 0,
      "outputs": []
    },
    {
      "metadata": {
        "id": "P0bQXjp499sl",
        "colab_type": "text"
      },
      "cell_type": "markdown",
      "source": [
        "# Creating and Manipulating Tensors"
      ]
    },
    {
      "metadata": {
        "id": "I3BCiWJiCGsv",
        "colab_type": "text"
      },
      "cell_type": "markdown",
      "source": [
        "**Learning Objectives:**\n",
        "  * Initialize and assign TensorFlow `Variable`s\n",
        "  * Create and manipulate tensors\n",
        "  * Refresh your memory about addition and multiplication in linear algebra (consult an introduction to matrix [addition](https://en.wikipedia.org/wiki/Matrix_addition) and [multiplication](https://en.wikipedia.org/wiki/Matrix_multiplication) if these topics are new to you)\n",
        "  * Familiarize yourself with basic TensorFlow math and array operations"
      ]
    },
    {
      "metadata": {
        "id": "85evKRsOIC5a",
        "colab_type": "code",
        "colab": {
          "base_uri": "https://localhost:8080/",
          "height": 34
        },
        "outputId": "3294dae0-e60c-4cd4-c7b0-cc0a878ed58f"
      },
      "cell_type": "code",
      "source": [
        "from __future__ import print_function\n",
        "\n",
        "import tensorflow as tf\n",
        "try:\n",
        "  tf.contrib.eager.enable_eager_execution()\n",
        "  print(\"TF imported with eager execution!\")\n",
        "except ValueError:\n",
        "  print(\"TF already imported with eager execution!\")"
      ],
      "execution_count": 2,
      "outputs": [
        {
          "output_type": "stream",
          "text": [
            "TF imported with eager execution!\n"
          ],
          "name": "stdout"
        }
      ]
    },
    {
      "metadata": {
        "id": "PT1sorfH-DdQ",
        "colab_type": "text"
      },
      "cell_type": "markdown",
      "source": [
        "## Vector Addition\n",
        "\n",
        "You can perform many typical mathematical operations on tensors ([TF API](https://www.tensorflow.org/api_guides/python/math_ops)). The code below creates the following vectors (1-D tensors), all having exactly six elements:\n",
        "\n",
        "*  A `primes` vector containing prime numbers.\n",
        "*  A `ones` vector containing all `1` values.\n",
        "* A vector created by performing element-wise addition over the first two vectors.\n",
        "* A vector created by doubling the elements in the `primes` vector."
      ]
    },
    {
      "metadata": {
        "id": "ng37e6ur-GZo",
        "colab_type": "code",
        "colab": {
          "base_uri": "https://localhost:8080/",
          "height": 85
        },
        "outputId": "90b075e1-9ebb-46ea-9350-f4699000b3bd"
      },
      "cell_type": "code",
      "source": [
        "primes = tf.constant([2, 3, 5, 7, 11, 13], dtype=tf.int32)\n",
        "print(\"primes:\", primes\n",
        ")\n",
        "ones = tf.ones([6], dtype=tf.int32)\n",
        "print(\"ones:\", ones)\n",
        "\n",
        "just_beyond_primes = tf.add(primes, ones)\n",
        "print(\"just_beyond_primes:\", just_beyond_primes)\n",
        "\n",
        "twos = tf.constant([2, 2, 2, 2, 2, 2], dtype=tf.int32)\n",
        "primes_doubled = primes * twos\n",
        "print(\"primes_doubled:\", primes_doubled)"
      ],
      "execution_count": 3,
      "outputs": [
        {
          "output_type": "stream",
          "text": [
            "primes: tf.Tensor([ 2  3  5  7 11 13], shape=(6,), dtype=int32)\n",
            "ones: tf.Tensor([1 1 1 1 1 1], shape=(6,), dtype=int32)\n",
            "just_beyond_primes: tf.Tensor([ 3  4  6  8 12 14], shape=(6,), dtype=int32)\n",
            "primes_doubled: tf.Tensor([ 4  6 10 14 22 26], shape=(6,), dtype=int32)\n"
          ],
          "name": "stdout"
        }
      ]
    },
    {
      "metadata": {
        "id": "whbEUNguEAt2",
        "colab_type": "text"
      },
      "cell_type": "markdown",
      "source": [
        "Printing a tensor returns not only its value, but also its shape (discussed in the next section) and the type of value stored in the tensor.  Calling the `numpy` method of a tensor returns the value of the tensor as a numpy array:"
      ]
    },
    {
      "metadata": {
        "id": "Dz4i5c88GRwJ",
        "colab_type": "code",
        "colab": {
          "base_uri": "https://localhost:8080/",
          "height": 136
        },
        "outputId": "32f0ed93-92e0-4785-c127-273ea43b2a44"
      },
      "cell_type": "code",
      "source": [
        "some_matrix = tf.constant([[1, 2, 3], [4, 5, 6]], dtype=tf.int32)\n",
        "print(some_matrix)\n",
        "print(\"\\nvalue of some_matrix is:\\n\", some_matrix.numpy())"
      ],
      "execution_count": 4,
      "outputs": [
        {
          "output_type": "stream",
          "text": [
            "tf.Tensor(\n",
            "[[1 2 3]\n",
            " [4 5 6]], shape=(2, 3), dtype=int32)\n",
            "\n",
            "value of some_matrix is:\n",
            " [[1 2 3]\n",
            " [4 5 6]]\n"
          ],
          "name": "stdout"
        }
      ]
    },
    {
      "metadata": {
        "id": "fVvaXzzMGZid",
        "colab_type": "text"
      },
      "cell_type": "markdown",
      "source": [
        "### Tensor Shapes\n",
        "\n",
        "Shapes are used to characterize the size and number of dimensions of a tensor. The shape of a tensor is expressed as `list`, with the `i`th element representing the size along dimension `i`. The length of the list then indicates the rank of the tensor (i.e., the number of dimensions).\n",
        "\n",
        "For more information, see the [TensorFlow documentation](https://www.tensorflow.org/programmers_guide/tensors#shape).\n",
        "\n",
        "A few basic examples:"
      ]
    },
    {
      "metadata": {
        "id": "PWzvJnIAH_cF",
        "colab_type": "code",
        "colab": {
          "base_uri": "https://localhost:8080/",
          "height": 136
        },
        "outputId": "5f21af82-ab9e-406c-a00b-9a7cc9aa04a9"
      },
      "cell_type": "code",
      "source": [
        "# A scalar (0-D tensor).\n",
        "scalar = tf.zeros([])\n",
        "\n",
        "# A vector with 3 elements.\n",
        "vector = tf.zeros([3])\n",
        "\n",
        "# A matrix with 2 rows and 3 columns.\n",
        "matrix = tf.zeros([2, 3])\n",
        "\n",
        "print('scalar has shape', scalar.get_shape(), 'and value:\\n', scalar.numpy())\n",
        "print('vector has shape', vector.get_shape(), 'and value:\\n', vector.numpy())\n",
        "print('matrix has shape', matrix.get_shape(), 'and value:\\n', matrix.numpy())"
      ],
      "execution_count": 5,
      "outputs": [
        {
          "output_type": "stream",
          "text": [
            "scalar has shape () and value:\n",
            " 0.0\n",
            "vector has shape (3,) and value:\n",
            " [0. 0. 0.]\n",
            "matrix has shape (2, 3) and value:\n",
            " [[0. 0. 0.]\n",
            " [0. 0. 0.]]\n"
          ],
          "name": "stdout"
        }
      ]
    },
    {
      "metadata": {
        "id": "musamrLavR5S",
        "colab_type": "text"
      },
      "cell_type": "markdown",
      "source": [
        "### Broadcasting\n",
        "\n",
        "In mathematics, you can only perform element-wise operations (e.g. *add* and *equals*) on tensors of the same shape. In TensorFlow, however, you may perform operations on tensors that would traditionally have been incompatible. TensorFlow supports **broadcasting** (a concept borrowed from numpy), where the smaller array in an element-wise operation is enlarged to have the same shape as the larger array. For example, via broadcasting:\n",
        "\n",
        "* If an operand requires a size `[6]` tensor, a size `[1]` or a size `[]` tensor can serve as an operand.\n",
        "* If an operation requires a size `[4, 6]` tensor, any of the following sizes can serve as an operand:\n",
        "  * `[1, 6]`\n",
        "  * `[6]`\n",
        "  * `[]`\n",
        "* If an operation requires a size `[3, 5, 6]` tensor, any of the following sizes can serve as an operand:\n",
        "\n",
        "  * `[1, 5, 6]`\n",
        "  * `[3, 1, 6]`\n",
        "  * `[3, 5, 1]`\n",
        "  * `[1, 1, 1]`\n",
        "  * `[5, 6]`\n",
        "  * `[1, 6]`\n",
        "  * `[6]`\n",
        "  * `[1]`\n",
        "  * `[]`\n",
        "\n",
        "**NOTE:** When a tensor is broadcast, its entries are conceptually **copied**. (They are not actually copied for performance reasons. Broadcasting was invented as a performance optimization.)\n",
        "\n",
        "The full broadcasting ruleset is well described in the easy-to-read [numpy broadcasting documentation](http://docs.scipy.org/doc/numpy-1.10.1/user/basics.broadcasting.html).\n",
        "\n",
        "The following code performs the same tensor arithmetic as before, but instead uses scalar values (instead of vectors containing all `1`s or all `2`s) and broadcasting."
      ]
    },
    {
      "metadata": {
        "id": "7lys_BeLy2SD",
        "colab_type": "code",
        "colab": {
          "base_uri": "https://localhost:8080/",
          "height": 85
        },
        "outputId": "1d3dd04e-030c-422b-9fb1-de5ec1b3a934"
      },
      "cell_type": "code",
      "source": [
        "primes = tf.constant([2, 3, 5, 7, 11, 13], dtype=tf.int32)\n",
        "print(\"primes:\", primes)\n",
        "\n",
        "one = tf.constant(1, dtype=tf.int32)\n",
        "print(\"one:\", one)\n",
        "\n",
        "just_beyond_primes = tf.add(primes, one)\n",
        "print(\"just_beyond_primes:\", just_beyond_primes)\n",
        "\n",
        "two = tf.constant(2, dtype=tf.int32)\n",
        "primes_doubled = primes * two\n",
        "print(\"primes_doubled:\", primes_doubled)"
      ],
      "execution_count": 6,
      "outputs": [
        {
          "output_type": "stream",
          "text": [
            "primes: tf.Tensor([ 2  3  5  7 11 13], shape=(6,), dtype=int32)\n",
            "one: tf.Tensor(1, shape=(), dtype=int32)\n",
            "just_beyond_primes: tf.Tensor([ 3  4  6  8 12 14], shape=(6,), dtype=int32)\n",
            "primes_doubled: tf.Tensor([ 4  6 10 14 22 26], shape=(6,), dtype=int32)\n"
          ],
          "name": "stdout"
        }
      ]
    },
    {
      "metadata": {
        "id": "FPBzBzRROxwe",
        "colab_type": "text"
      },
      "cell_type": "markdown",
      "source": [
        "### Exercise #1: Arithmetic over vectors.\n",
        "\n",
        "Perform vector arithmetic to create a \"just_under_primes_squared\" vector, where the `i`th element is equal to the `i`th element in `primes` squared, minus 1.  For example, the second element would be equal to `3 * 3 - 1 = 8`.\n",
        "\n",
        "Make use of either the `tf.multiply` or `tf.pow` ops to square the value of each element in the `primes` vector."
      ]
    },
    {
      "metadata": {
        "id": "pWK2rAttQlD6",
        "colab_type": "code",
        "colab": {
          "base_uri": "https://localhost:8080/",
          "height": 34
        },
        "outputId": "85c5ac34-ed92-42b0-de2b-90c29a919386"
      },
      "cell_type": "code",
      "source": [
        "just_under_primes = tf.subtract(tf.pow(primes, 2), one)\n",
        "print(\"just_under_primes:\", just_under_primes)"
      ],
      "execution_count": 10,
      "outputs": [
        {
          "output_type": "stream",
          "text": [
            "just_under_primes: tf.Tensor([  3   8  24  48 120 168], shape=(6,), dtype=int32)\n"
          ],
          "name": "stdout"
        }
      ]
    },
    {
      "metadata": {
        "id": "7d1kfAx4QL17",
        "colab_type": "text"
      },
      "cell_type": "markdown",
      "source": [
        "### Solution\n",
        "\n",
        "Click below for a solution."
      ]
    },
    {
      "metadata": {
        "id": "QUgHSI9BOUx7",
        "colab_type": "code",
        "colab": {
          "base_uri": "https://localhost:8080/",
          "height": 34
        },
        "outputId": "46712dd6-f213-466c-c537-6a7046a63a37"
      },
      "cell_type": "code",
      "source": [
        "# Task: Square each element in the primes vector, then subtract 1.\n",
        "\n",
        "def solution(primes):\n",
        "  primes_squared = tf.multiply(primes, primes)\n",
        "  neg_one = tf.constant(-1, dtype=tf.int32)\n",
        "  just_under_primes_squared = tf.add(primes_squared, neg_one)\n",
        "  return just_under_primes_squared\n",
        "\n",
        "def alternative_solution(primes):\n",
        "  primes_squared = tf.pow(primes, 2)\n",
        "  one = tf.constant(1, dtype=tf.int32)\n",
        "  just_under_primes_squared = tf.subtract(primes_squared, one)\n",
        "  return just_under_primes_squared\n",
        "\n",
        "primes = tf.constant([2, 3, 5, 7, 11, 13], dtype=tf.int32)\n",
        "just_under_primes_squared = solution(primes)\n",
        "print(\"just_under_primes_squared:\", just_under_primes_squared)"
      ],
      "execution_count": 11,
      "outputs": [
        {
          "output_type": "stream",
          "text": [
            "just_under_primes_squared: tf.Tensor([  3   8  24  48 120 168], shape=(6,), dtype=int32)\n"
          ],
          "name": "stdout"
        }
      ]
    },
    {
      "metadata": {
        "id": "it0P-AV0-Jb4",
        "colab_type": "text"
      },
      "cell_type": "markdown",
      "source": [
        "## Matrix Multiplication\n",
        "\n",
        "In linear algebra, when multiplying two matrices, the number of *columns* of the first matrix must\n",
        "equal the number of *rows* in the second matrix.\n",
        "\n",
        "- It is **_valid_** to multiply a `3x4` matrix by a `4x2` matrix. This will result in a `3x2` matrix.\n",
        "- It is **_invalid_** to multiply a `4x2` matrix by a `3x4` matrix."
      ]
    },
    {
      "metadata": {
        "id": "OVR8QPif-MeS",
        "colab_type": "code",
        "colab": {
          "base_uri": "https://localhost:8080/",
          "height": 85
        },
        "outputId": "7f13a067-c8f4-461f-c138-5b676504b38e"
      },
      "cell_type": "code",
      "source": [
        "# A 3x4 matrix (2-d tensor).\n",
        "x = tf.constant([[5, 2, 4, 3], [5, 1, 6, -2], [-1, 3, -1, -2]],\n",
        "                dtype=tf.int32)\n",
        "\n",
        "# A 4x2 matrix (2-d tensor).\n",
        "y = tf.constant([[2, 2], [3, 5], [4, 5], [1, 6]], dtype=tf.int32)\n",
        "\n",
        "# Multiply `x` by `y`; result is 3x2 matrix.\n",
        "matrix_multiply_result = tf.matmul(x, y)\n",
        "\n",
        "print(matrix_multiply_result)"
      ],
      "execution_count": 12,
      "outputs": [
        {
          "output_type": "stream",
          "text": [
            "tf.Tensor(\n",
            "[[35 58]\n",
            " [35 33]\n",
            " [ 1 -4]], shape=(3, 2), dtype=int32)\n"
          ],
          "name": "stdout"
        }
      ]
    },
    {
      "metadata": {
        "id": "fziRnmuy-O9x",
        "colab_type": "text"
      },
      "cell_type": "markdown",
      "source": [
        "## Tensor Reshaping\n",
        "\n",
        "With tensor addition and matrix multiplication each imposing constraints\n",
        "on operands, TensorFlow programmers must frequently reshape tensors. \n",
        "\n",
        "You can use the `tf.reshape` method to reshape a tensor. \n",
        "For example, you can reshape a 8x2 tensor into a 2x8 tensor or a 4x4 tensor:"
      ]
    },
    {
      "metadata": {
        "id": "L05ob6a_G77m",
        "colab_type": "code",
        "colab": {
          "base_uri": "https://localhost:8080/",
          "height": 306
        },
        "outputId": "fe924fdc-deba-4c57-b2e2-168ea1ff3ca3"
      },
      "cell_type": "code",
      "source": [
        "# Create an 8x2 matrix (2-D tensor).\n",
        "matrix = tf.constant(\n",
        "    [[1, 2], [3, 4], [5, 6], [7, 8], [9, 10], [11, 12], [13, 14], [15, 16]],\n",
        "    dtype=tf.int32)\n",
        "\n",
        "reshaped_2x8_matrix = tf.reshape(matrix, [2, 8])\n",
        "reshaped_4x4_matrix = tf.reshape(matrix, [4, 4])\n",
        "\n",
        "print(\"Original matrix (8x2):\")\n",
        "print(matrix.numpy())\n",
        "print(\"Reshaped matrix (2x8):\")\n",
        "print(reshaped_2x8_matrix.numpy())\n",
        "print(\"Reshaped matrix (4x4):\")\n",
        "print(reshaped_4x4_matrix.numpy())"
      ],
      "execution_count": 13,
      "outputs": [
        {
          "output_type": "stream",
          "text": [
            "Original matrix (8x2):\n",
            "[[ 1  2]\n",
            " [ 3  4]\n",
            " [ 5  6]\n",
            " [ 7  8]\n",
            " [ 9 10]\n",
            " [11 12]\n",
            " [13 14]\n",
            " [15 16]]\n",
            "Reshaped matrix (2x8):\n",
            "[[ 1  2  3  4  5  6  7  8]\n",
            " [ 9 10 11 12 13 14 15 16]]\n",
            "Reshaped matrix (4x4):\n",
            "[[ 1  2  3  4]\n",
            " [ 5  6  7  8]\n",
            " [ 9 10 11 12]\n",
            " [13 14 15 16]]\n"
          ],
          "name": "stdout"
        }
      ]
    },
    {
      "metadata": {
        "id": "b6cFa92YGyU5",
        "colab_type": "text"
      },
      "cell_type": "markdown",
      "source": [
        "\n",
        "You can also use `tf.reshape` to change the number of dimensions (the \"rank\") of the tensor.\n",
        "For example, you could reshape that 8x2 tensor into a 3-D 2x2x4 tensor or a 1-D 16-element tensor."
      ]
    },
    {
      "metadata": {
        "id": "3MpcwWj9-Sqp",
        "colab_type": "code",
        "colab": {
          "base_uri": "https://localhost:8080/",
          "height": 306
        },
        "outputId": "5da88b30-110d-4e40-983c-b0b5d3a8d121"
      },
      "cell_type": "code",
      "source": [
        "# Create an 8x2 matrix (2-D tensor).\n",
        "matrix = tf.constant(\n",
        "    [[1, 2], [3, 4], [5, 6], [7, 8], [9, 10], [11, 12], [13, 14], [15, 16]],\n",
        "    dtype=tf.int32)\n",
        "\n",
        "reshaped_2x2x4_tensor = tf.reshape(matrix, [2, 2, 4])\n",
        "one_dimensional_vector = tf.reshape(matrix, [16])\n",
        "\n",
        "print(\"Original matrix (8x2):\")\n",
        "print(matrix.numpy())\n",
        "print(\"Reshaped 3-D tensor (2x2x4):\")\n",
        "print(reshaped_2x2x4_tensor.numpy())\n",
        "print(\"1-D vector:\")\n",
        "print(one_dimensional_vector.numpy())"
      ],
      "execution_count": 14,
      "outputs": [
        {
          "output_type": "stream",
          "text": [
            "Original matrix (8x2):\n",
            "[[ 1  2]\n",
            " [ 3  4]\n",
            " [ 5  6]\n",
            " [ 7  8]\n",
            " [ 9 10]\n",
            " [11 12]\n",
            " [13 14]\n",
            " [15 16]]\n",
            "Reshaped 3-D tensor (2x2x4):\n",
            "[[[ 1  2  3  4]\n",
            "  [ 5  6  7  8]]\n",
            "\n",
            " [[ 9 10 11 12]\n",
            "  [13 14 15 16]]]\n",
            "1-D vector:\n",
            "[ 1  2  3  4  5  6  7  8  9 10 11 12 13 14 15 16]\n"
          ],
          "name": "stdout"
        }
      ]
    },
    {
      "metadata": {
        "id": "CrpowaWo-VLq",
        "colab_type": "text"
      },
      "cell_type": "markdown",
      "source": [
        "### Exercise #2: Reshape two tensors in order to multiply them.\n",
        "\n",
        "The following two vectors are incompatible for matrix multiplication:\n",
        "\n",
        "  *  `a = tf.constant([5, 3, 2, 7, 1, 4])`\n",
        "  *  `b = tf.constant([4, 6, 3])`\n",
        "\n",
        "Reshape these vectors into compatible operands for matrix multiplication.\n",
        "Then, invoke a matrix multiplication operation on the reshaped tensors."
      ]
    },
    {
      "metadata": {
        "id": "p6idvaeK-Zxq",
        "colab_type": "code",
        "colab": {
          "base_uri": "https://localhost:8080/",
          "height": 68
        },
        "outputId": "e0838beb-b435-49d8-bc36-a367e843c57e"
      },
      "cell_type": "code",
      "source": [
        "a = tf.constant([5, 3, 2, 7, 1, 4])\n",
        "b = tf.constant([4, 6, 3])\n",
        "a = tf.reshape(a, [2, 3])\n",
        "b = tf.reshape(b, [3, 1])\n",
        "\n",
        "ans = tf.matmul(a, b)\n",
        "print(\"matrix multiplication of a and b: \", ans)"
      ],
      "execution_count": 20,
      "outputs": [
        {
          "output_type": "stream",
          "text": [
            "matrix multiplication of a and b:  tf.Tensor(\n",
            "[[44]\n",
            " [46]], shape=(2, 1), dtype=int32)\n"
          ],
          "name": "stdout"
        }
      ]
    },
    {
      "metadata": {
        "id": "EYzU56M4MG_x",
        "colab_type": "text"
      },
      "cell_type": "markdown",
      "source": [
        "### Solution\n",
        "\n",
        "Click below for a solution."
      ]
    },
    {
      "metadata": {
        "id": "F9HDdiugJKpH",
        "colab_type": "text"
      },
      "cell_type": "markdown",
      "source": [
        "Remember, when multiplying two matrices, the number of *columns* of the first matrix must equal the number of *rows* in the second matrix.\n",
        "\n",
        "One possible solution is to reshape `a` into a 2x3 matrix and reshape `b` into a a 3x1 matrix, resulting in a 2x1 matrix after multiplication:"
      ]
    },
    {
      "metadata": {
        "id": "8Sef4d0SMMtk",
        "colab_type": "code",
        "colab": {
          "base_uri": "https://localhost:8080/",
          "height": 187
        },
        "outputId": "eb36812a-0c76-4678-fa73-2a676d87742f"
      },
      "cell_type": "code",
      "source": [
        "# Task: Reshape two tensors in order to multiply them\n",
        "\n",
        "a = tf.constant([5, 3, 2, 7, 1, 4])\n",
        "b = tf.constant([4, 6, 3])\n",
        "\n",
        "reshaped_a = tf.reshape(a, [2, 3])\n",
        "reshaped_b = tf.reshape(b, [3, 1])\n",
        "c = tf.matmul(reshaped_a, reshaped_b)\n",
        "\n",
        "print(\"reshaped_a (2x3):\")\n",
        "print(reshaped_a.numpy())\n",
        "print(\"reshaped_b (3x1):\")\n",
        "print(reshaped_b.numpy())\n",
        "print(\"reshaped_a x reshaped_b (2x1):\")\n",
        "print(c.numpy())"
      ],
      "execution_count": 21,
      "outputs": [
        {
          "output_type": "stream",
          "text": [
            "reshaped_a (2x3):\n",
            "[[5 3 2]\n",
            " [7 1 4]]\n",
            "reshaped_b (3x1):\n",
            "[[4]\n",
            " [6]\n",
            " [3]]\n",
            "reshaped_a x reshaped_b (2x1):\n",
            "[[44]\n",
            " [46]]\n"
          ],
          "name": "stdout"
        }
      ]
    },
    {
      "metadata": {
        "id": "uDZSacTxJ0XG",
        "colab_type": "text"
      },
      "cell_type": "markdown",
      "source": [
        "An alternative solution would be to reshape `a` into a 6x1 matrix and `b` into a 1x3 matrix, resulting in a 6x3 matrix after multiplication."
      ]
    },
    {
      "metadata": {
        "id": "x1JYo7iE2oKk",
        "colab_type": "text"
      },
      "cell_type": "markdown",
      "source": [
        "## Variables, Initialization and Assignment\n",
        "\n",
        "So far, all the operations we performed were on static values (`tf.constant`); calling `numpy()` always returned the same result. TensorFlow allows you to define `Variable` objects, whose values can be changed.\n",
        "\n",
        "When creating a variable, you can set an initial value explicitly, or you can use an initializer (like a distribution):"
      ]
    },
    {
      "metadata": {
        "id": "6opLnjfD3PdL",
        "colab_type": "code",
        "colab": {
          "base_uri": "https://localhost:8080/",
          "height": 51
        },
        "outputId": "58356b95-d7e5-4b22-d2f3-cedfc87c51cf"
      },
      "cell_type": "code",
      "source": [
        "# Create a scalar variable with the initial value 3.\n",
        "v = tf.contrib.eager.Variable([3])\n",
        "\n",
        "# Create a vector variable of shape [1, 4], with random initial values,\n",
        "# sampled from a normal distribution with mean 1 and standard deviation 0.35.\n",
        "w = tf.contrib.eager.Variable(tf.random_normal([1, 4], mean=1.0, stddev=0.35))\n",
        "\n",
        "print(\"v:\", v.numpy())\n",
        "print(\"w:\", w.numpy())"
      ],
      "execution_count": 23,
      "outputs": [
        {
          "output_type": "stream",
          "text": [
            "v: [3]\n",
            "w: [[1.1869917  1.1129128  0.98328716 0.5513318 ]]\n"
          ],
          "name": "stdout"
        }
      ]
    },
    {
      "metadata": {
        "id": "yrZ31hPw66uy",
        "colab_type": "text"
      },
      "cell_type": "markdown",
      "source": [
        "To change the value of a variable, use the `assign` op:"
      ]
    },
    {
      "metadata": {
        "id": "zD0D1DCR7NBX",
        "colab_type": "code",
        "colab": {
          "base_uri": "https://localhost:8080/",
          "height": 68
        },
        "outputId": "b310de3c-3c92-4cee-dc1d-feb4bb5a1eae"
      },
      "cell_type": "code",
      "source": [
        "v = tf.contrib.eager.Variable([3])\n",
        "print(v.numpy())\n",
        "\n",
        "tf.assign(v, [7])\n",
        "print(v.numpy())\n",
        "\n",
        "v.assign([5])\n",
        "print(v.numpy())"
      ],
      "execution_count": 24,
      "outputs": [
        {
          "output_type": "stream",
          "text": [
            "[3]\n",
            "[7]\n",
            "[5]\n"
          ],
          "name": "stdout"
        }
      ]
    },
    {
      "metadata": {
        "id": "HQvQCZvuLKfY",
        "colab_type": "text"
      },
      "cell_type": "markdown",
      "source": [
        "When assigning a new value to a variable, its shape must be equal to its previous shape:"
      ]
    },
    {
      "metadata": {
        "id": "AoSJFAlkLHTX",
        "colab_type": "code",
        "colab": {
          "base_uri": "https://localhost:8080/",
          "height": 85
        },
        "outputId": "ceff2c09-77c2-4d3d-b5c4-119eb4a1698e"
      },
      "cell_type": "code",
      "source": [
        "v = tf.contrib.eager.Variable([[1, 2, 3], [4, 5, 6]])\n",
        "print(v.numpy())\n",
        "\n",
        "try:\n",
        "  print(\"Assigning [7, 8, 9] to v\")\n",
        "  v.assign([7, 8, 9])\n",
        "except ValueError as e:\n",
        "  print(\"Exception:\", e)"
      ],
      "execution_count": 25,
      "outputs": [
        {
          "output_type": "stream",
          "text": [
            "[[1 2 3]\n",
            " [4 5 6]]\n",
            "Assigning [7, 8, 9] to v\n",
            "Exception: Shapes (2, 3) and (3,) are incompatible\n"
          ],
          "name": "stdout"
        }
      ]
    },
    {
      "metadata": {
        "id": "tB78Zq4h78Zr",
        "colab_type": "text"
      },
      "cell_type": "markdown",
      "source": [
        "There are many more topics about variables that we didn't cover here, such as loading and storing. To learn more, see the [TensorFlow docs](https://www.tensorflow.org/programmers_guide/variables)."
      ]
    },
    {
      "metadata": {
        "id": "iFIOcnfz_Oqw",
        "colab_type": "text"
      },
      "cell_type": "markdown",
      "source": [
        "### Exercise #3: Simulate 10 rolls of two dice.\n",
        "\n",
        "Create a dice simulation, which generates a `10x3` 2-D tensor in which:\n",
        "\n",
        "  * Columns `1` and `2` each hold one throw of one six-sided die (with values 1–6).\n",
        "  * Column `3` holds the sum of Columns `1` and `2` on the same row.\n",
        "\n",
        "For example, the first row might have the following values:\n",
        "\n",
        "  * Column `1` holds `4`\n",
        "  * Column `2` holds `3`\n",
        "  * Column `3` holds `7`\n",
        "\n",
        "You'll need to explore the [TensorFlow documentation](https://www.tensorflow.org/api_guides/python/array_ops) to solve this task."
      ]
    },
    {
      "metadata": {
        "id": "ocwT0iXH-nhT",
        "colab_type": "code",
        "colab": {
          "base_uri": "https://localhost:8080/",
          "height": 204
        },
        "outputId": "b73040a7-5a8c-4e22-96eb-a3271b95834a"
      },
      "cell_type": "code",
      "source": [
        "dies = tf.contrib.eager.Variable(tf.random_uniform([10, 2], minval=1, maxval=7, dtype=tf.int32))\n",
        "sum_d = tf.add(dies.numpy()[:,0], dies.numpy()[:,1])\n",
        "sum_m = tf.reshape(sum_d, [10, 1])\n",
        "\n",
        "#print(dies)\n",
        "#print(sum_m)\n",
        "result = tf.concat(values=[dies, sum_m], axis=1)\n",
        "print(result)"
      ],
      "execution_count": 60,
      "outputs": [
        {
          "output_type": "stream",
          "text": [
            "tf.Tensor(\n",
            "[[ 3  2  5]\n",
            " [ 6  4 10]\n",
            " [ 3  1  4]\n",
            " [ 4  3  7]\n",
            " [ 3  3  6]\n",
            " [ 3  3  6]\n",
            " [ 1  4  5]\n",
            " [ 2  4  6]\n",
            " [ 6  1  7]\n",
            " [ 5  2  7]], shape=(10, 3), dtype=int32)\n"
          ],
          "name": "stdout"
        }
      ]
    },
    {
      "metadata": {
        "id": "Kt7aojXkR_qS",
        "colab_type": "text"
      },
      "cell_type": "markdown",
      "source": [
        "### Solution\n",
        "\n",
        "Click below for a solution."
      ]
    },
    {
      "metadata": {
        "id": "6kRkwXE1MHVS",
        "colab_type": "text"
      },
      "cell_type": "markdown",
      "source": [
        "We're going to place dice throws inside two separate 10x1 matrices, `die1` and `die2`.  The summation of the dice rolls will be stored in `dice_sum`, then the resulting 10x3 matrix will be created by *concatenating* the three 10x1 matrices together into a single matrix.\n",
        "\n",
        "Alternatively, we could have placed dice throws inside a single 10x2 matrix, but adding different columns of the same matrix would be more complicated. We also could have placed dice throws inside two 1-D tensors (vectors), but doing so would require transposing the result."
      ]
    },
    {
      "metadata": {
        "id": "6UUluecQSCvr",
        "colab_type": "code",
        "colab": {
          "base_uri": "https://localhost:8080/",
          "height": 187
        },
        "outputId": "11430a67-481f-4b20-ad7c-82b1424c43c5"
      },
      "cell_type": "code",
      "source": [
        "# Task: Simulate 10 throws of two dice. Store the results in a 10x3 matrix.\n",
        "\n",
        "die1 = tf.contrib.eager.Variable(\n",
        "    tf.random_uniform([10, 1], minval=1, maxval=7, dtype=tf.int32))\n",
        "die2 = tf.contrib.eager.Variable(\n",
        "    tf.random_uniform([10, 1], minval=1, maxval=7, dtype=tf.int32))\n",
        "\n",
        "dice_sum = tf.add(die1, die2)\n",
        "resulting_matrix = tf.concat(values=[die1, die2, dice_sum], axis=1)\n",
        "\n",
        "print(resulting_matrix.numpy())"
      ],
      "execution_count": 52,
      "outputs": [
        {
          "output_type": "stream",
          "text": [
            "[[ 6  3  9]\n",
            " [ 5  5 10]\n",
            " [ 6  6 12]\n",
            " [ 6  4 10]\n",
            " [ 6  2  8]\n",
            " [ 3  6  9]\n",
            " [ 6  1  7]\n",
            " [ 1  4  5]\n",
            " [ 6  4 10]\n",
            " [ 3  2  5]]\n"
          ],
          "name": "stdout"
        }
      ]
    }
  ]
}